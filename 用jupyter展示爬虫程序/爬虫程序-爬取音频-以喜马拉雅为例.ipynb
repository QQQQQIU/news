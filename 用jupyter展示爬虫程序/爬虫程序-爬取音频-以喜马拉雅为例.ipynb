{
 "cells": [
  {
   "cell_type": "markdown",
   "metadata": {},
   "source": [
    "#### 介绍"
   ]
  },
  {
   "cell_type": "code",
   "execution_count": 1,
   "metadata": {},
   "outputs": [
    {
     "data": {
      "text/plain": [
       "'\\n输入待爬取的内容、专辑数量、页数，即可开始自动爬取音频。音频来自喜马拉雅\\n'"
      ]
     },
     "execution_count": 1,
     "metadata": {},
     "output_type": "execute_result"
    }
   ],
   "source": [
    "'''\n",
    "输入待爬取的内容、专辑数量、页数，即可开始自动爬取音频。音频来自喜马拉雅\n",
    "'''"
   ]
  },
  {
   "cell_type": "markdown",
   "metadata": {},
   "source": [
    "#### 导入模块"
   ]
  },
  {
   "cell_type": "code",
   "execution_count": 2,
   "metadata": {},
   "outputs": [],
   "source": [
    "import requests\n",
    "from lxml import etree\n",
    "import re,os\n",
    "from tqdm import tqdm"
   ]
  },
  {
   "cell_type": "markdown",
   "metadata": {},
   "source": [
    "#### 功能函数"
   ]
  },
  {
   "cell_type": "code",
   "execution_count": 3,
   "metadata": {},
   "outputs": [],
   "source": [
    "class get_audio:\n",
    "    def __init__(self):\n",
    "        # 伪装成chrome浏览器进行网页登录\n",
    "        self.headers = {'User-Agent':'Mozilla/5.0 (Windows NT 10.0; Win64; x64) AppleWebKit/537.36 (KHTML, like Gecko) Chrome/88.0.4324.190 Safari/537.36'\n",
    "                      \n",
    "                       }\n",
    "        # 文件保存地址\n",
    "        self.dirs_save = './爬取的文件/'\n",
    "\n",
    "    def check_name(self,s_name):\n",
    "        \"\"\"处理文件名非法字符的方法\"\"\"\n",
    "        s_name = s_name.replace(' ','-')\n",
    "        pattern = re.compile(r\"[\\/\\\\\\:\\*\\?\\\"\\<\\>\\|]\")  # '/ \\ : * ? \" < > |'\n",
    "        new_name = re.sub(pattern, \"_\", s_name)  # 替换为下划线\n",
    "        return new_name \n",
    "    \n",
    "    # 根据专辑与页数，生成对应网址，并返回该网页的解析\n",
    "    def get_urlpage_s(self,url_album,page):\n",
    "        # 某专辑第一页的网址，从中可获取专辑页数，f'https://www.ximalaya.com{album}'\n",
    "        url_page = f'https://www.ximalaya.com{url_album}p{page}/'\n",
    "        print(url_page)\n",
    "        response = requests.get(url=url_page, headers=self.headers)\n",
    "        html_data = response.text\n",
    "        selector = etree.HTML(html_data)\n",
    "        return selector\n",
    "    \n",
    "    # 输入要搜索的对象、专辑数量、要下载的专辑内页数\n",
    "    def search_name(self,content_to_search):\n",
    "        search_url = f'https://www.ximalaya.com//search/{content_to_search}'\n",
    "        response = requests.get(url=search_url, headers=self.headers)\n",
    "        html_data = response.text\n",
    "        selector = etree.HTML(html_data)\n",
    "        # 搜索获得专辑网址列表\n",
    "        url_album_list = selector.xpath('//*[@class=\"xm-album\"]/div/a/@href')\n",
    "\n",
    "        return url_album_list\n",
    "    \n",
    "    # 获取该专辑内音频页数\n",
    "    def get_pagesnum(self,selector):\n",
    "        pages_to_search = selector.xpath('//*[@class=\"page-link WJ_\"]/@href')\n",
    "        if len(pages_to_search) > 1:\n",
    "            pages_num = len(pages_to_search) - 1\n",
    "        else:\n",
    "            pages_num = 1\n",
    "        return pages_num\n",
    "    \n",
    "    # 获得音频下载地址\n",
    "    def get_m4a_url(self,href):\n",
    "        m4a_id = href.split('/')[-1]\n",
    "        json_url = f'https://www.ximalaya.com/revision/play/v1/audio?id={m4a_id}&ptype=1'\n",
    "        json_data = requests.get(url=json_url, headers=self.headers).json()\n",
    "        m4a_url = json_data['data']['src']        \n",
    "        return m4a_url\n",
    "    \n",
    "    # 下载文件\n",
    "    def download_file(self,url, file_name, headers):\n",
    "        r = requests.get(url,headers=self.headers, stream=True)\n",
    "        chunk_size = 1024*1024\n",
    "        content_size = int(r.headers['content-length'])/1024/1024  \n",
    "        print('开始下载...大小为：{:.2f}MB'.format(content_size))\n",
    "        f = open(file_name, \"wb\")\n",
    "        for chunk in tqdm(r.iter_content(chunk_size=chunk_size)) :\n",
    "            f.write(chunk)\n",
    "        print(f'{file_name}文件保存完毕...')\n",
    "        return content_size    "
   ]
  },
  {
   "cell_type": "markdown",
   "metadata": {},
   "source": [
    "#### 爬取的内容、专辑数量、页数"
   ]
  },
  {
   "cell_type": "code",
   "execution_count": 4,
   "metadata": {},
   "outputs": [
    {
     "name": "stdout",
     "output_type": "stream",
     "text": [
      "请输入要爬取的内容:催眠\n",
      "请输入爬取的专辑数量：1\n",
      "请输入爬取的页数：1\n"
     ]
    }
   ],
   "source": [
    "# 输入要爬取的内容\n",
    "content_to_search = input('请输入要爬取的内容:')#search_content = '郭德纲'\n",
    "# 输入爬取的专辑数量\n",
    "albums_to_search = int(input('请输入爬取的专辑数量：'))\n",
    "# 输入爬取的页数\n",
    "pages_to_search = int(input('请输入爬取的页数：'))\n",
    "\n"
   ]
  },
  {
   "cell_type": "markdown",
   "metadata": {},
   "source": [
    "#### 开始爬取"
   ]
  },
  {
   "cell_type": "code",
   "execution_count": null,
   "metadata": {},
   "outputs": [
    {
     "name": "stdout",
     "output_type": "stream",
     "text": [
      "/yinyue/2791923/\n",
      "https://www.ximalaya.com/yinyue/2791923/p1/\n"
     ]
    },
    {
     "name": "stderr",
     "output_type": "stream",
     "text": [
      "\r",
      "0it [00:00, ?it/s]"
     ]
    },
    {
     "name": "stdout",
     "output_type": "stream",
     "text": [
      "开始下载...大小为：2.35MB\n"
     ]
    },
    {
     "name": "stderr",
     "output_type": "stream",
     "text": [
      "3it [00:02,  1.25it/s]\n"
     ]
    },
    {
     "name": "stdout",
     "output_type": "stream",
     "text": [
      "./爬取的文件/亭子下的雨声（5min).m4a文件保存完毕...\n"
     ]
    },
    {
     "name": "stderr",
     "output_type": "stream",
     "text": [
      "\r",
      "0it [00:00, ?it/s]"
     ]
    },
    {
     "name": "stdout",
     "output_type": "stream",
     "text": [
      "开始下载...大小为：3.71MB\n"
     ]
    },
    {
     "name": "stderr",
     "output_type": "stream",
     "text": [
      "4it [00:03,  1.22it/s]\n"
     ]
    },
    {
     "name": "stdout",
     "output_type": "stream",
     "text": [
      "./爬取的文件/雨中蛙声---雨下大了蛙声也渐渐变小.m4a文件保存完毕...\n"
     ]
    },
    {
     "name": "stderr",
     "output_type": "stream",
     "text": [
      "\r",
      "0it [00:00, ?it/s]"
     ]
    },
    {
     "name": "stdout",
     "output_type": "stream",
     "text": [
      "开始下载...大小为：3.64MB\n"
     ]
    },
    {
     "name": "stderr",
     "output_type": "stream",
     "text": [
      "4it [00:03,  1.30it/s]\n"
     ]
    },
    {
     "name": "stdout",
     "output_type": "stream",
     "text": [
      "./爬取的文件/雨后-树下的雨滴稀稀疏疏.m4a文件保存完毕...\n"
     ]
    },
    {
     "name": "stderr",
     "output_type": "stream",
     "text": [
      "\r",
      "0it [00:00, ?it/s]"
     ]
    },
    {
     "name": "stdout",
     "output_type": "stream",
     "text": [
      "开始下载...大小为：2.39MB\n"
     ]
    },
    {
     "name": "stderr",
     "output_type": "stream",
     "text": [
      "3it [00:01,  2.95it/s]\n"
     ]
    },
    {
     "name": "stdout",
     "output_type": "stream",
     "text": [
      "./爬取的文件/下雨天---车里无转向灯-带耳机效果超赞.m4a文件保存完毕...\n"
     ]
    },
    {
     "name": "stderr",
     "output_type": "stream",
     "text": [
      "\r",
      "0it [00:00, ?it/s]"
     ]
    },
    {
     "name": "stdout",
     "output_type": "stream",
     "text": [
      "开始下载...大小为：2.72MB\n"
     ]
    },
    {
     "name": "stderr",
     "output_type": "stream",
     "text": [
      "3it [00:02,  1.30it/s]\n"
     ]
    },
    {
     "name": "stdout",
     "output_type": "stream",
     "text": [
      "./爬取的文件/下雨天---车里打着转向灯-带耳机效果超赞.m4a文件保存完毕...\n"
     ]
    },
    {
     "name": "stderr",
     "output_type": "stream",
     "text": [
      "\r",
      "0it [00:00, ?it/s]"
     ]
    },
    {
     "name": "stdout",
     "output_type": "stream",
     "text": [
      "开始下载...大小为：2.12MB\n"
     ]
    },
    {
     "name": "stderr",
     "output_type": "stream",
     "text": [
      "3it [00:02,  1.48it/s]\n"
     ]
    },
    {
     "name": "stdout",
     "output_type": "stream",
     "text": [
      "./爬取的文件/棕叶下的雨-关注声谷-众公号了解自然录音.m4a文件保存完毕...\n"
     ]
    },
    {
     "name": "stderr",
     "output_type": "stream",
     "text": [
      "\r",
      "0it [00:00, ?it/s]"
     ]
    },
    {
     "name": "stdout",
     "output_type": "stream",
     "text": [
      "开始下载...大小为：3.64MB\n"
     ]
    },
    {
     "name": "stderr",
     "output_type": "stream",
     "text": [
      "4it [00:01,  3.24it/s]\n"
     ]
    },
    {
     "name": "stdout",
     "output_type": "stream",
     "text": [
      "./爬取的文件/深夜的雨声-大自然声音.m4a文件保存完毕...\n"
     ]
    },
    {
     "name": "stderr",
     "output_type": "stream",
     "text": [
      "\r",
      "0it [00:00, ?it/s]"
     ]
    },
    {
     "name": "stdout",
     "output_type": "stream",
     "text": [
      "开始下载...大小为：4.78MB\n"
     ]
    },
    {
     "name": "stderr",
     "output_type": "stream",
     "text": [
      "5it [00:02,  2.48it/s]\n"
     ]
    },
    {
     "name": "stdout",
     "output_type": "stream",
     "text": [
      "./爬取的文件/深夜林中细雨-大自然的声音-纯音乐.m4a文件保存完毕...\n"
     ]
    },
    {
     "name": "stderr",
     "output_type": "stream",
     "text": [
      "\r",
      "0it [00:00, ?it/s]"
     ]
    },
    {
     "name": "stdout",
     "output_type": "stream",
     "text": [
      "开始下载...大小为：1.84MB\n"
     ]
    },
    {
     "name": "stderr",
     "output_type": "stream",
     "text": [
      "2it [00:02,  1.33s/it]\n"
     ]
    },
    {
     "name": "stdout",
     "output_type": "stream",
     "text": [
      "./爬取的文件/雨声行人鸟儿飞机-舒适自然-大自然的声音-纯音乐.m4a文件保存完毕...\n"
     ]
    },
    {
     "name": "stderr",
     "output_type": "stream",
     "text": [
      "\r",
      "0it [00:00, ?it/s]"
     ]
    },
    {
     "name": "stdout",
     "output_type": "stream",
     "text": [
      "开始下载...大小为：23.16MB\n"
     ]
    },
    {
     "name": "stderr",
     "output_type": "stream",
     "text": [
      "24it [00:19,  1.23it/s]\n"
     ]
    },
    {
     "name": "stdout",
     "output_type": "stream",
     "text": [
      "./爬取的文件/亭子下的雨声-大自然的声音-纯音乐［声谷］.m4a文件保存完毕...\n"
     ]
    },
    {
     "name": "stderr",
     "output_type": "stream",
     "text": [
      "\r",
      "0it [00:00, ?it/s]"
     ]
    },
    {
     "name": "stdout",
     "output_type": "stream",
     "text": [
      "开始下载...大小为：2.78MB\n"
     ]
    },
    {
     "name": "stderr",
     "output_type": "stream",
     "text": [
      "3it [00:01,  2.80it/s]\n"
     ]
    },
    {
     "name": "stdout",
     "output_type": "stream",
     "text": [
      "./爬取的文件/台风来时-大自然的声音-纯音乐［声谷］.m4a文件保存完毕...\n"
     ]
    },
    {
     "name": "stderr",
     "output_type": "stream",
     "text": [
      "\r",
      "0it [00:00, ?it/s]"
     ]
    },
    {
     "name": "stdout",
     "output_type": "stream",
     "text": [
      "开始下载...大小为：4.00MB\n"
     ]
    },
    {
     "name": "stderr",
     "output_type": "stream",
     "text": [
      "3it [00:02,  1.52it/s]"
     ]
    }
   ],
   "source": [
    "# 已爬取的专辑数量\n",
    "album_searched = 0\n",
    "# 已爬取的页数\n",
    "pages_searched = 0\n",
    "\n",
    "crawler = get_audio()\n",
    "# 创建待保存的文件路径\n",
    "if not os.path.exists(crawler.dirs_save):\n",
    "    os.makedirs(crawler.dirs_save)\n",
    "url_album_list = crawler.search_name(content_to_search)\n",
    "\n",
    "for url_album in url_album_list:\n",
    "    print(url_album)\n",
    "    # 根据页数生成对应网址 如https://www.ximalaya.com/xiangsheng/9723091/p3/\n",
    "    for page_ in range(pages_to_search):\n",
    "        page = page_ + 1 \n",
    "        \n",
    "        selector = crawler.get_urlpage_s(url_album,page)\n",
    "        \n",
    "        # 该专辑最大页数\n",
    "        max_pages = crawler.get_pagesnum(selector)\n",
    "        \n",
    "        # 读取该页所有音频的标题与下载相关地址\n",
    "        s_titles = selector.xpath('//*[@class=\"text lF_\"]/a/@title')\n",
    "        s_hrefs = selector.xpath('//*[@class=\"text lF_\"]/a/@href')\n",
    "        \n",
    "        # 下载该页内所有音频\n",
    "        for title,href in zip(s_titles,s_hrefs):\n",
    "            # \n",
    "            file_name = crawler.dirs_save + crawler.check_name(title) + '.m4a'\n",
    "            # 获得音频下载地址\n",
    "            m4a_url = crawler.get_m4a_url(href)\n",
    "            # 下载音频\n",
    "            crawler.download_file(m4a_url, file_name, crawler.headers)\n",
    "            #print(f'下载{title}')\n",
    "        \n",
    "        # 已爬取到最后一页，退出\n",
    "        if page==max_pages:\n",
    "            break\n",
    "        \n",
    "        pages_searched += 1\n",
    "        if pages_searched >= pages_to_search:\n",
    "            break\n",
    "    \n",
    "    album_searched += 1\n",
    "    if album_searched >= albums_to_search:\n",
    "        break\n",
    "        \n",
    "    print('下载结束')"
   ]
  },
  {
   "cell_type": "code",
   "execution_count": null,
   "metadata": {},
   "outputs": [],
   "source": []
  }
 ],
 "metadata": {
  "kernelspec": {
   "display_name": "Python 3",
   "language": "python",
   "name": "python3"
  },
  "language_info": {
   "codemirror_mode": {
    "name": "ipython",
    "version": 3
   },
   "file_extension": ".py",
   "mimetype": "text/x-python",
   "name": "python",
   "nbconvert_exporter": "python",
   "pygments_lexer": "ipython3",
   "version": "3.8.5"
  }
 },
 "nbformat": 4,
 "nbformat_minor": 5
}
