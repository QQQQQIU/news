{
 "cells": [
  {
   "cell_type": "markdown",
   "metadata": {},
   "source": [
    "\n",
    "#### 介绍"
   ]
  },
  {
   "cell_type": "code",
   "execution_count": 1,
   "metadata": {},
   "outputs": [
    {
     "data": {
      "text/plain": [
       "'\\n输入待爬取的内容和爬取的页数，即可自动开始爬取视频。视频来自b站。\\n'"
      ]
     },
     "execution_count": 1,
     "metadata": {},
     "output_type": "execute_result"
    }
   ],
   "source": [
    "'''\n",
    "输入待爬取的内容和爬取的页数，即可自动开始爬取视频。视频来自b站。\n",
    "'''"
   ]
  },
  {
   "cell_type": "markdown",
   "metadata": {},
   "source": [
    "#### 导入模块"
   ]
  },
  {
   "cell_type": "code",
   "execution_count": 2,
   "metadata": {},
   "outputs": [],
   "source": [
    "import requests\n",
    "from lxml import etree\n",
    "import time,os,re\n",
    "from tqdm import tqdm"
   ]
  },
  {
   "cell_type": "markdown",
   "metadata": {},
   "source": [
    "#### 功能函数"
   ]
  },
  {
   "cell_type": "code",
   "execution_count": 3,
   "metadata": {},
   "outputs": [],
   "source": [
    "class get_video:\n",
    "    def __init__(self):\n",
    "        # 伪装成chrome浏览器进行网页登录\n",
    "        self.headers  = {'User-Agent':'Mozilla/5.0 (Windows NT 10.0; Win64; x64) AppleWebKit/537.36 (KHTML, like Gecko) Chrome/88.0.4324.190 Safari/537.36'}\n",
    "        # 文件保存地址\n",
    "        self.dirs_save = './爬取的文件/'\n",
    "     \n",
    "    # 输入网址，获得该网址的解析\n",
    "    def get_selector(self,url):\n",
    "        response = requests.get(url,headers=self.headers)\n",
    "        html_data = response.text\n",
    "        # 数据为html文件，将html转换成py文件\n",
    "        selector = etree.HTML(html_data)\n",
    "        return selector\n",
    "        \n",
    "    def check_name(self,s_name):\n",
    "        \"\"\"处理文件名非法字符的方法\"\"\"\n",
    "        s_name = s_name.replace(' ','-')\n",
    "        pattern = re.compile(r\"[\\/\\\\\\:\\*\\?\\\"\\<\\>\\|]\")  # '/ \\ : * ? \" < > |'\n",
    "        new_name = re.sub(pattern, \"_\", s_name)  # 替换为下划线\n",
    "        return new_name\n",
    "\n",
    "    def download_file(self,url, file_name, headers):\n",
    "        r = requests.get(url,headers=headers, stream=True)\n",
    "        chunk_size = 1024*1024\n",
    "        content_size = int(r.headers['content-length'])/1024/1024  \n",
    "        print('开始下载...大小为：{:.2f}MB'.format(content_size))\n",
    "        f = open(file_name, \"wb\")\n",
    "        for chunk in tqdm(r.iter_content(chunk_size=chunk_size)):\n",
    "            f.write(chunk)\n",
    "        print('{}文件保存完毕...'.format(file_name))\n",
    "        return content_size"
   ]
  },
  {
   "cell_type": "markdown",
   "metadata": {},
   "source": [
    "#### ·输入待爬取的内容和页数"
   ]
  },
  {
   "cell_type": "code",
   "execution_count": 4,
   "metadata": {},
   "outputs": [],
   "source": [
    "# 输入要爬取的内容\n",
    "#content = input('请输入要爬取的内容:')\n",
    "content = '搞笑短视频'\n",
    "# 输入爬取的页数\n",
    "#pages = int(input('请输入爬取的页数：'))\n",
    "pages = 1\n"
   ]
  },
  {
   "cell_type": "markdown",
   "metadata": {},
   "source": [
    "#### ·开始爬取"
   ]
  },
  {
   "cell_type": "code",
   "execution_count": null,
   "metadata": {},
   "outputs": [
    {
     "name": "stdout",
     "output_type": "stream",
     "text": [
      "______________________\n",
      "网页数据处理中...\n",
      "下载临时视频文件\n"
     ]
    },
    {
     "name": "stderr",
     "output_type": "stream",
     "text": [
      "\r",
      "0it [00:00, ?it/s]"
     ]
    },
    {
     "name": "stdout",
     "output_type": "stream",
     "text": [
      "开始下载...大小为：7.05MB\n"
     ]
    },
    {
     "name": "stderr",
     "output_type": "stream",
     "text": [
      "8it [00:01,  4.40it/s]\n"
     ]
    },
    {
     "name": "stdout",
     "output_type": "stream",
     "text": [
      "tem.mp4文件保存完毕...\n",
      "下载临时音频文件\n"
     ]
    },
    {
     "name": "stderr",
     "output_type": "stream",
     "text": [
      "\r",
      "0it [00:00, ?it/s]"
     ]
    },
    {
     "name": "stdout",
     "output_type": "stream",
     "text": [
      "开始下载...大小为：5.55MB\n"
     ]
    },
    {
     "name": "stderr",
     "output_type": "stream",
     "text": [
      "6it [00:01,  3.29it/s]\n"
     ]
    },
    {
     "name": "stdout",
     "output_type": "stream",
     "text": [
      "tem.mp3文件保存完毕...\n",
      "cmd执行命令： ffmpeg -i tem.mp3 -i tem.mp4 -c copy  ./爬取的文件/_短视频APP被音乐和搞笑APP绑架了_~~恶搞剪辑.mp4 -loglevel quiet\n",
      "./爬取的文件/_短视频APP被音乐和搞笑APP绑架了_~~恶搞剪辑.mp4视频文件合成后的大小为：12948KB,12MB\n",
      "______________________\n",
      "______________________\n",
      "网页数据处理中...\n"
     ]
    },
    {
     "name": "stderr",
     "output_type": "stream",
     "text": [
      "\r",
      "0it [00:00, ?it/s]"
     ]
    },
    {
     "name": "stdout",
     "output_type": "stream",
     "text": [
      "下载临时视频文件\n",
      "开始下载...大小为：34.37MB\n"
     ]
    },
    {
     "name": "stderr",
     "output_type": "stream",
     "text": [
      "35it [00:06,  5.46it/s]\n"
     ]
    },
    {
     "name": "stdout",
     "output_type": "stream",
     "text": [
      "tem.mp4文件保存完毕...\n",
      "下载临时音频文件\n"
     ]
    },
    {
     "name": "stderr",
     "output_type": "stream",
     "text": [
      "\r",
      "0it [00:00, ?it/s]"
     ]
    },
    {
     "name": "stdout",
     "output_type": "stream",
     "text": [
      "开始下载...大小为：3.03MB\n"
     ]
    },
    {
     "name": "stderr",
     "output_type": "stream",
     "text": [
      "4it [00:34,  8.57s/it]\n"
     ]
    },
    {
     "name": "stdout",
     "output_type": "stream",
     "text": [
      "tem.mp3文件保存完毕...\n",
      "cmd执行命令： ffmpeg -i tem.mp3 -i tem.mp4 -c copy  ./爬取的文件/国外逗比短视频#15，嘟嘟嘴黑人Lucas的合集.mp4 -loglevel quiet\n",
      "./爬取的文件/国外逗比短视频#15，嘟嘟嘴黑人Lucas的合集.mp4视频文件合成后的大小为：38447KB,37MB\n",
      "______________________\n",
      "______________________\n",
      "网页数据处理中...\n"
     ]
    },
    {
     "name": "stderr",
     "output_type": "stream",
     "text": [
      "\r",
      "0it [00:00, ?it/s]"
     ]
    },
    {
     "name": "stdout",
     "output_type": "stream",
     "text": [
      "下载临时视频文件\n",
      "开始下载...大小为：32.48MB\n"
     ]
    },
    {
     "name": "stderr",
     "output_type": "stream",
     "text": [
      "33it [00:05,  5.56it/s]\n"
     ]
    },
    {
     "name": "stdout",
     "output_type": "stream",
     "text": [
      "tem.mp4文件保存完毕...\n",
      "下载临时音频文件\n"
     ]
    }
   ],
   "source": [
    "crawler = get_video()\n",
    "if not os.path.exists(crawler.dirs_save):\n",
    "    os.makedirs(crawler.dirs_save)\n",
    "\n",
    "# 确认目标的url,设置if条件，进行判断\n",
    "for i in range(pages):\n",
    "    #url_page = get_url_page(i)\n",
    "    url = f'https://search.bilibili.com/all?keyword={content}&from_source=nav_search&spm_id_from=333.851.b_696e7465726e6174696f6e616c486561646572.17&page={i+1}'\n",
    "    # 获得该网页的解析\n",
    "    selector = crawler.get_selector(url)\n",
    "    # 提取视频页面对应的url列表\n",
    "    url_list = selector.xpath('//li[@class=\"video-item matrix\"]/a[@target=\"_blank\"]/@href')    \n",
    "    \n",
    "    for url in url_list:\n",
    "        # 由于url并不是完整的，因此需要拼接\n",
    "        url_1 = 'https:' + url \n",
    "        # 发送请求，获取响应\n",
    "        print('______________________')\n",
    "        print('网页数据处理中...')\n",
    "        # 获得该网页的解析\n",
    "        selector = crawler.get_selector(url_1)\n",
    "        # 提取视频的名称\n",
    "        title_ = selector.xpath('//title/text()')[0]\n",
    "        # 对名称正则处理\n",
    "        title_ = re.findall(r'(.*?)_哔哩哔哩',title_)[0]\n",
    "        title_ = title_.replace('/','')\n",
    "        # 提取纯视频和纯音频的url\n",
    "        url_str = selector.xpath('//script[contains(text(),\"window.__playinfo__\")]/text()')[0]\n",
    "        video_url = re.findall('\"video\":\\[{\"id\":\\d+,\"baseUrl\":\"(.*?)\",',url_str)[0]\n",
    "        audio_url = re.findall('\"audio\":\\[{\"id\":\\d+,\"baseUrl\":\"(.*?)\",',url_str)[0]\n",
    "\n",
    "        headers_ = {\n",
    "            'User-Agent':'Mozilla/5.0 (Windows NT 10.0; Win64; x64) AppleWebKit/537.36 (KHTML, like Gecko) Chrome/88.0.4324.150 Safari/537.36',\n",
    "            'Referer':url_1\n",
    "        }\n",
    "\n",
    "        print('下载临时视频文件')\n",
    "        video_name = 'tem.mp4'\n",
    "        crawler.download_file(video_url, video_name, headers_)\n",
    "\n",
    "        print('下载临时音频文件')\n",
    "        audio_name = 'tem.mp3'\n",
    "        crawler.download_file(audio_url, audio_name, headers_)\n",
    "\n",
    "        video_save = crawler.dirs_save + crawler.check_name(f'{title_}.mp4')\n",
    "        print('cmd执行命令：',f'ffmpeg -i {audio_name} -i {video_name} -c copy  {video_save} -loglevel quiet')\n",
    "        os.system(f'ffmpeg -i {audio_name} -i {video_name} -c copy  {video_save} -loglevel quiet')\n",
    "        # 等待视频合成\n",
    "        while False == os.path.exists(video_save):\n",
    "            print('视频合成中')\n",
    "            time.sleep(1)\n",
    "        # 打印合成后视频的大小\n",
    "        res_size = int(os.stat(video_save).st_size/1024)\n",
    "        res_size1 = int(res_size/1024)\n",
    "        print(f'{video_save}视频文件合成后的大小为：{res_size}KB,{res_size1}MB')\n",
    "\n",
    "        # 将纯视频和纯音频文件删除\n",
    "        os.remove(audio_name)\n",
    "        os.remove(video_name)\n",
    "        print('______________________')"
   ]
  },
  {
   "cell_type": "code",
   "execution_count": null,
   "metadata": {},
   "outputs": [],
   "source": []
  },
  {
   "cell_type": "code",
   "execution_count": null,
   "metadata": {},
   "outputs": [],
   "source": []
  },
  {
   "cell_type": "code",
   "execution_count": null,
   "metadata": {},
   "outputs": [],
   "source": []
  }
 ],
 "metadata": {
  "kernelspec": {
   "display_name": "Python 3",
   "language": "python",
   "name": "python3"
  },
  "language_info": {
   "codemirror_mode": {
    "name": "ipython",
    "version": 3
   },
   "file_extension": ".py",
   "mimetype": "text/x-python",
   "name": "python",
   "nbconvert_exporter": "python",
   "pygments_lexer": "ipython3",
   "version": "3.8.5"
  }
 },
 "nbformat": 4,
 "nbformat_minor": 5
}