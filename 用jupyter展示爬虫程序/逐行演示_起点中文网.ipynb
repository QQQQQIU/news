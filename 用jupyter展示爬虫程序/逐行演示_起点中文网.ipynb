{
 "cells": [
  {
   "cell_type": "markdown",
   "metadata": {},
   "source": [
    "#### 导入模块"
   ]
  },
  {
   "cell_type": "code",
   "execution_count": 105,
   "metadata": {},
   "outputs": [],
   "source": [
    "import requests\n",
    "from lxml import etree\n",
    "import re,os"
   ]
  },
  {
   "cell_type": "markdown",
   "metadata": {},
   "source": [
    "#### 根据日期，生成对应日期的新闻界面"
   ]
  },
  {
   "cell_type": "code",
   "execution_count": 1,
   "metadata": {},
   "outputs": [
    {
     "name": "stdout",
     "output_type": "stream",
     "text": [
      "https://www.qidian.com/free/all\n"
     ]
    }
   ],
   "source": []
  },
  {
   "cell_type": "markdown",
   "metadata": {},
   "source": [
    "#### 分析该网页"
   ]
  },
  {
   "cell_type": "code",
   "execution_count": 115,
   "metadata": {},
   "outputs": [],
   "source": [
    "# 伪装成chrome浏览器进行网页登录\n",
    "headers = {'User-Agent':'Mozilla/5.0 (Windows NT 10.0; Win64; x64) AppleWebKit/537.36 (KHTML, like Gecko) Chrome/88.0.4324.190 Safari/537.36'}\n",
    "# 文件保存地址\n",
    "dirs_save = './爬取的文件/'\n",
    "# 创建待保存的文件路径\n",
    "if not os.path.exists(dirs_save):\n",
    "    os.makedirs(dirs_save)\n"
   ]
  },
  {
   "cell_type": "markdown",
   "metadata": {},
   "source": [
    "#### 获得作品书名"
   ]
  },
  {
   "cell_type": "code",
   "execution_count": 116,
   "metadata": {},
   "outputs": [
    {
     "name": "stdout",
     "output_type": "stream",
     "text": [
      "https://www.qidian.com/free/all\n"
     ]
    }
   ],
   "source": [
    "# 起点中文网-免费作品\n",
    "url = f'https://www.qidian.com/free/all'\n",
    "print(url)\n",
    "# 从指定网页url的内容读入到webdata中，以供分析使用\n",
    "webdata = requests.get(url, headers=headers)\n",
    "# 通过xpath模块来分析网页内容\n",
    "selector_page = etree.HTML(webdata.text)"
   ]
  },
  {
   "cell_type": "code",
   "execution_count": 117,
   "metadata": {},
   "outputs": [
    {
     "data": {
      "text/plain": [
       "(['在下壶中仙',\n",
       "  '我在秋斩刑场当缝尸人那些年',\n",
       "  '顶级气运，悄悄修炼千年',\n",
       "  '骨舟记',\n",
       "  '混天大圣',\n",
       "  '成为了道医之后',\n",
       "  '前桌女生竟是我的头号黑粉',\n",
       "  '首富从谈恋爱开始',\n",
       "  '混在影视世界除魔',\n",
       "  '网王之从呼吸法开始',\n",
       "  '这位大帝也是我朋友',\n",
       "  '我真的不想喷人啊',\n",
       "  '开局养了九年的猫要变身了',\n",
       "  '从诡异开始收容',\n",
       "  '天庭签到，终于等来大闹天宫',\n",
       "  '面壁者：谁都想破我的壁',\n",
       "  '密室逃不脱',\n",
       "  '种菜骷髅的异域开荒',\n",
       "  '重生之我真不是男神',\n",
       "  '剑断星河的我还是太弱'],\n",
       " 20)"
      ]
     },
     "execution_count": 117,
     "metadata": {},
     "output_type": "execute_result"
    }
   ],
   "source": [
    "book_names = selector_page.xpath('//*[@class=\"book-mid-info\"]/h4/a/text()')\n",
    "#book_names = selector.xpath('//li/div/h4/a/text()')\n",
    "book_names,len(book_names)"
   ]
  },
  {
   "cell_type": "code",
   "execution_count": 118,
   "metadata": {},
   "outputs": [
    {
     "data": {
      "text/plain": [
       "(['海底漫步者',\n",
       "  '污门说书人',\n",
       "  '任我笑',\n",
       "  '石章鱼',\n",
       "  '封七月',\n",
       "  '忽悠啊',\n",
       "  '给您添蘑菇啦',\n",
       "  '王戈多',\n",
       "  '问心万古',\n",
       "  '南柯ol',\n",
       "  '凿砚',\n",
       "  '严七官',\n",
       "  '梦里几度寒秋',\n",
       "  '黑色天',\n",
       "  '岳不懂',\n",
       "  '政泓',\n",
       "  '尺间萤火',\n",
       "  '情终流水',\n",
       "  '五陵',\n",
       "  '鱼粥不扑街'],\n",
       " 20)"
      ]
     },
     "execution_count": 118,
     "metadata": {},
     "output_type": "execute_result"
    }
   ],
   "source": [
    "author_names = selector_page.xpath('//*[@class=\"author\"]/a[1]/text()')\n",
    "author_names,len(author_names)"
   ]
  },
  {
   "cell_type": "code",
   "execution_count": 119,
   "metadata": {},
   "outputs": [
    {
     "data": {
      "text/plain": [
       "['https://book.qidian.com/info/1025745191#Catalog',\n",
       " 'https://book.qidian.com/info/1026358819#Catalog',\n",
       " 'https://book.qidian.com/info/1026562582#Catalog',\n",
       " 'https://book.qidian.com/info/1026662100#Catalog',\n",
       " 'https://book.qidian.com/info/1025925266#Catalog',\n",
       " 'https://book.qidian.com/info/1025184575#Catalog',\n",
       " 'https://book.qidian.com/info/1026792469#Catalog',\n",
       " 'https://book.qidian.com/info/1026091038#Catalog',\n",
       " 'https://book.qidian.com/info/1026540797#Catalog',\n",
       " 'https://book.qidian.com/info/1026557080#Catalog',\n",
       " 'https://book.qidian.com/info/1026923534#Catalog',\n",
       " 'https://book.qidian.com/info/1026845699#Catalog',\n",
       " 'https://book.qidian.com/info/1026128696#Catalog',\n",
       " 'https://book.qidian.com/info/1026610605#Catalog',\n",
       " 'https://book.qidian.com/info/1026564129#Catalog',\n",
       " 'https://book.qidian.com/info/1026686907#Catalog',\n",
       " 'https://book.qidian.com/info/1026567297#Catalog',\n",
       " 'https://book.qidian.com/info/1026100141#Catalog',\n",
       " 'https://book.qidian.com/info/1026385603#Catalog',\n",
       " 'https://book.qidian.com/info/1026388770#Catalog']"
      ]
     },
     "execution_count": 119,
     "metadata": {},
     "output_type": "execute_result"
    }
   ],
   "source": [
    "book_nums = selector_page.xpath('//*[@class=\"book-mid-info\"]/h4/a/@data-bid')\n",
    "book_urls = ['https://book.qidian.com/info/' + book_num + '#Catalog' for book_num in book_nums]\n",
    "book_urls"
   ]
  },
  {
   "cell_type": "markdown",
   "metadata": {},
   "source": [
    "#### 进入作品网址并分析"
   ]
  },
  {
   "cell_type": "code",
   "execution_count": 120,
   "metadata": {},
   "outputs": [
    {
     "name": "stdout",
     "output_type": "stream",
     "text": [
      "https://www.qidian.com/free/all\n"
     ]
    }
   ],
   "source": [
    "# 起点中文网-免费作品\n",
    "url_book = book_urls[0]\n",
    "#url = 'https://book.qidian.com/info/1026091038#Catalog'\n",
    "print(url)\n",
    "webdata = requests.get(url_book, headers=headers)\n",
    "selector_book = etree.HTML(webdata.text)"
   ]
  },
  {
   "cell_type": "code",
   "execution_count": 121,
   "metadata": {},
   "outputs": [
    {
     "data": {
      "text/plain": [
       "(['第一章 放弃掉自己穿越唯一的金手指吗？',\n",
       "  '第二章 该踏踏实实过日子才对',\n",
       "  '第三章 管闲事',\n",
       "  '第四章 晨练',\n",
       "  '第五章 青鬼姬大人',\n",
       "  '第六章 画风变的这么快吗？',\n",
       "  '第七章 怪物',\n",
       "  '第八章 可惜了，是个勇敢的家伙',\n",
       "  '第九章 狠心LV99',\n",
       "  '第十章石烤地瓜',\n",
       "  '第十一章 又成了伦理问题了？',\n",
       "  '第十二章 警力吃紧',\n",
       "  '第十三章 前川美咲',\n",
       "  '第十四章 不可小觑啊！',\n",
       "  '第十五章 可爱风的猫眼JK',\n",
       "  '第十六章你在开玩笑？',\n",
       "  '第十七章输了比赛我们就跑',\n",
       "  '第十八章 到此为止了',\n",
       "  '第十九章 合作愉快',\n",
       "  '第二十章 大杂烩流派',\n",
       "  '第二十一章 也许该去买只羊',\n",
       "  '第二十二章 大哥哥，晚安',\n",
       "  '第二十三章 你小子不老实',\n",
       "  '第二十四章 别这么爱骂人就好了',\n",
       "  '第二十五章 阿齁',\n",
       "  '第二十六章 狗醒了',\n",
       "  '第二十七章 忠犬',\n",
       "  '第二十八章 当舔狗是没有好下场的',\n",
       "  '第二十九章 还敢染黄毛？',\n",
       "  '第三十章 服药',\n",
       "  '第三十一章 蜕变',\n",
       "  '第三十二章 资质提升',\n",
       "  '第三十三章 妖刀弥月',\n",
       "  '第三十四章 骑着自行车去打怪',\n",
       "  '第三十五章 你是不是怕狗啊？',\n",
       "  '第三十六章 终于等到怪了',\n",
       "  '第三十七章就是这里，药丸在里面！',\n",
       "  '第三十八章不怕没柴刀',\n",
       "  '第三十九章 体舍流剑士',\n",
       "  '第四十章前有爹，后有妈，两头夹击',\n",
       "  '第四十一章 哥哥是个败类',\n",
       "  '第四十二章阿齁就是阿齁',\n",
       "  '第四十三章 终于开始受欢迎了？',\n",
       "  '第四十四章 爱心便当',\n",
       "  '第四十五章 未来堪忧',\n",
       "  '第四十六章 阿鹤，你长大了',\n",
       "  '第四十七章 她急了',\n",
       "  '第四十八章 大巡游'],\n",
       " 48)"
      ]
     },
     "execution_count": 121,
     "metadata": {},
     "output_type": "execute_result"
    }
   ],
   "source": [
    "chapter_names = selector_book.xpath('//*[@class=\"cf\"]/li/a/text()')\n",
    "chapter_names,len(chapter_names)"
   ]
  },
  {
   "cell_type": "code",
   "execution_count": 122,
   "metadata": {},
   "outputs": [
    {
     "data": {
      "text/plain": [
       "(['//read.qidian.com/chapter/Pd_AgZRL-m41nwKwH2GONg2/goJPbojwtHDwrjbX3WA1AA2',\n",
       "  '//read.qidian.com/chapter/Pd_AgZRL-m41nwKwH2GONg2/xYVR9JF7B5Rp4rPq4Fd4KQ2',\n",
       "  '//read.qidian.com/chapter/Pd_AgZRL-m41nwKwH2GONg2/-F5Hg_xbMSxMs5iq0oQwLQ2',\n",
       "  '//read.qidian.com/chapter/Pd_AgZRL-m41nwKwH2GONg2/Dj4-9LjUoM9OBDFlr9quQA2',\n",
       "  '//read.qidian.com/chapter/Pd_AgZRL-m41nwKwH2GONg2/26beHI4JNJK2uJcMpdsVgA2',\n",
       "  '//read.qidian.com/chapter/Pd_AgZRL-m41nwKwH2GONg2/PlVrxbKYFYLgn4SMoDUcDQ2',\n",
       "  '//read.qidian.com/chapter/Pd_AgZRL-m41nwKwH2GONg2/ERD50QmFDUlMs5iq0oQwLQ2',\n",
       "  '//read.qidian.com/chapter/Pd_AgZRL-m41nwKwH2GONg2/fcweqgFA3NTM5j8_3RRvhw2',\n",
       "  '//read.qidian.com/chapter/Pd_AgZRL-m41nwKwH2GONg2/xXLweGrACbz6ItTi_ILQ7A2',\n",
       "  '//read.qidian.com/chapter/Pd_AgZRL-m41nwKwH2GONg2/KvecPitSkjZMs5iq0oQwLQ2',\n",
       "  '//read.qidian.com/chapter/Pd_AgZRL-m41nwKwH2GONg2/XiPBMBWySbHgn4SMoDUcDQ2',\n",
       "  '//read.qidian.com/chapter/Pd_AgZRL-m41nwKwH2GONg2/vB1Atl7z9HZMs5iq0oQwLQ2',\n",
       "  '//read.qidian.com/chapter/Pd_AgZRL-m41nwKwH2GONg2/wB9j8pF2hS_6ItTi_ILQ7A2',\n",
       "  '//read.qidian.com/chapter/Pd_AgZRL-m41nwKwH2GONg2/NnAoFrggkcHM5j8_3RRvhw2',\n",
       "  '//read.qidian.com/chapter/Pd_AgZRL-m41nwKwH2GONg2/BjE6fMOdT5n6ItTi_ILQ7A2',\n",
       "  '//read.qidian.com/chapter/Pd_AgZRL-m41nwKwH2GONg2/Rb54XUx4eiNOBDFlr9quQA2',\n",
       "  '//read.qidian.com/chapter/Pd_AgZRL-m41nwKwH2GONg2/yrQaXpSJ7w2aGfXRMrUjdw2',\n",
       "  '//read.qidian.com/chapter/Pd_AgZRL-m41nwKwH2GONg2/wouCSGoW7NPM5j8_3RRvhw2',\n",
       "  '//read.qidian.com/chapter/Pd_AgZRL-m41nwKwH2GONg2/nnJX9H_7337wrjbX3WA1AA2',\n",
       "  '//read.qidian.com/chapter/Pd_AgZRL-m41nwKwH2GONg2/ogkqxmyxQZxMs5iq0oQwLQ2',\n",
       "  '//read.qidian.com/chapter/Pd_AgZRL-m41nwKwH2GONg2/0YOAgRiwmDzgn4SMoDUcDQ2',\n",
       "  '//read.qidian.com/chapter/Pd_AgZRL-m41nwKwH2GONg2/uWfm5897f4NOBDFlr9quQA2',\n",
       "  '//read.qidian.com/chapter/Pd_AgZRL-m41nwKwH2GONg2/xDjV2jXBL1zwrjbX3WA1AA2',\n",
       "  '//read.qidian.com/chapter/Pd_AgZRL-m41nwKwH2GONg2/27f8AElzfYvgn4SMoDUcDQ2',\n",
       "  '//read.qidian.com/chapter/Pd_AgZRL-m41nwKwH2GONg2/eRMYodVa6xBp4rPq4Fd4KQ2',\n",
       "  '//read.qidian.com/chapter/Pd_AgZRL-m41nwKwH2GONg2/poaVbdRt97JMs5iq0oQwLQ2',\n",
       "  '//read.qidian.com/chapter/Pd_AgZRL-m41nwKwH2GONg2/Uz4mWWLXMw6aGfXRMrUjdw2',\n",
       "  '//read.qidian.com/chapter/Pd_AgZRL-m41nwKwH2GONg2/fc_FI9P17Z5p4rPq4Fd4KQ2',\n",
       "  '//read.qidian.com/chapter/Pd_AgZRL-m41nwKwH2GONg2/5RZovH95hnzwrjbX3WA1AA2',\n",
       "  '//read.qidian.com/chapter/Pd_AgZRL-m41nwKwH2GONg2/aIiZi9GDpXFp4rPq4Fd4KQ2',\n",
       "  '//read.qidian.com/chapter/Pd_AgZRL-m41nwKwH2GONg2/8D3uELTz9Kr6ItTi_ILQ7A2',\n",
       "  '//read.qidian.com/chapter/Pd_AgZRL-m41nwKwH2GONg2/0u5Nl_gfOe76ItTi_ILQ7A2',\n",
       "  '//read.qidian.com/chapter/Pd_AgZRL-m41nwKwH2GONg2/xeugBEz9jnSaGfXRMrUjdw2',\n",
       "  '//read.qidian.com/chapter/Pd_AgZRL-m41nwKwH2GONg2/Hggp15QsVzP4p8iEw--PPw2',\n",
       "  '//read.qidian.com/chapter/Pd_AgZRL-m41nwKwH2GONg2/IkDMlZ-28cqaGfXRMrUjdw2',\n",
       "  '//read.qidian.com/chapter/Pd_AgZRL-m41nwKwH2GONg2/-iLfSpFbGbdMs5iq0oQwLQ2',\n",
       "  '//read.qidian.com/chapter/Pd_AgZRL-m41nwKwH2GONg2/y12EJyeVlrNOBDFlr9quQA2',\n",
       "  '//read.qidian.com/chapter/Pd_AgZRL-m41nwKwH2GONg2/Vd10Xey-vQW2uJcMpdsVgA2',\n",
       "  '//read.qidian.com/chapter/Pd_AgZRL-m41nwKwH2GONg2/k7AQxpzaMOLM5j8_3RRvhw2',\n",
       "  '//read.qidian.com/chapter/Pd_AgZRL-m41nwKwH2GONg2/0qSL7ZC-sEa2uJcMpdsVgA2',\n",
       "  '//read.qidian.com/chapter/Pd_AgZRL-m41nwKwH2GONg2/PuGOKyg-5rlMs5iq0oQwLQ2',\n",
       "  '//read.qidian.com/chapter/Pd_AgZRL-m41nwKwH2GONg2/GAKf3_UOtJ7M5j8_3RRvhw2',\n",
       "  '//read.qidian.com/chapter/Pd_AgZRL-m41nwKwH2GONg2/cz2xEeLm4_jM5j8_3RRvhw2',\n",
       "  '//read.qidian.com/chapter/Pd_AgZRL-m41nwKwH2GONg2/dpKdue-AlP1OBDFlr9quQA2',\n",
       "  '//read.qidian.com/chapter/Pd_AgZRL-m41nwKwH2GONg2/gC91CUO-dcf6ItTi_ILQ7A2',\n",
       "  '//read.qidian.com/chapter/Pd_AgZRL-m41nwKwH2GONg2/g9f781WQrg36ItTi_ILQ7A2',\n",
       "  '//read.qidian.com/chapter/Pd_AgZRL-m41nwKwH2GONg2/3AI3sPi_eTtp4rPq4Fd4KQ2',\n",
       "  '//read.qidian.com/chapter/Pd_AgZRL-m41nwKwH2GONg2/HTOga0Da2OFp4rPq4Fd4KQ2'],\n",
       " 48)"
      ]
     },
     "execution_count": 122,
     "metadata": {},
     "output_type": "execute_result"
    }
   ],
   "source": [
    "chapter_urls = selector_book.xpath('//*[@class=\"cf\"]/li/a/@data-cid')\n",
    "#chapter_urls = [chapter_url.replace('//','https://') for chapter_url in chapter_urls]\n",
    "chapter_urls,len(chapter_urls)"
   ]
  },
  {
   "cell_type": "code",
   "execution_count": null,
   "metadata": {},
   "outputs": [],
   "source": []
  },
  {
   "cell_type": "markdown",
   "metadata": {},
   "source": [
    "#### 进入章节，获取正文"
   ]
  },
  {
   "cell_type": "code",
   "execution_count": 123,
   "metadata": {},
   "outputs": [
    {
     "name": "stdout",
     "output_type": "stream",
     "text": [
      "https://www.qidian.com/free/all\n"
     ]
    }
   ],
   "source": [
    "# 给链接加上https:\n",
    "url_chapter = chapter_urls[0].replace('//','https://')\n",
    "print(url)\n",
    "webdata = requests.get(url_chapter, headers=headers)\n",
    "selector_chapter = etree.HTML(webdata.text)\n"
   ]
  },
  {
   "cell_type": "code",
   "execution_count": 125,
   "metadata": {},
   "outputs": [
    {
     "data": {
      "text/plain": [
       "['\\u3000\\u3000寂静的森林中，无数大树冲天而起，树冠宽大，高低错落间，几乎做到了遮天蔽日，只有几缕不多的阳光可以散漫透下来。地上铺着层层叠叠的腐叶，也不知道积累了多久，踩上去像是绵软的地毯，柔软又有弹性。',\n",
       " '\\u3000\\u3000雾原秋手执伐木斧，弯着身子，借着一点点阳光，深一脚浅一脚摸索着前进，脸上的表情非常警惕。',\n",
       " '\\u3000\\u3000就算看过很多次了，他还是觉得这片森林特别诡异，没有走兽，没有飞鸟，甚至连昆虫都没有，只有不明树种的黑色大树静静耸立，好像这片土地中所有的精华都被这些怪树吸干了，就连空气中都透着一股子阴冷刺骨的寒意。',\n",
       " '\\u3000\\u3000而且，越往里深入，这股寒意就越发浓郁了。',\n",
       " '\\u3000\\u3000雾原秋手中的斧子握得更紧，行走的也更加小心谨慎，哪怕只是风吹过树梢的沙沙声，都会让他猛然伏低身子。',\n",
       " '\\u3000\\u3000想出去！',\n",
       " '\\u3000\\u3000想穿过这片森林，看看森林外面有什么！',\n",
       " '\\u3000\\u3000想看看自己能不能修仙，能不能获得超凡力量！',\n",
       " '\\u3000\\u3000他时走时停，极度小心的深入森林，而忽然间，他侧耳倾听了片刻，迅速敛息缩到了一棵大树的树根下，借着树木阴影遮掩住了自己的身形。',\n",
       " '\\u3000\\u3000片刻后，一阵细细碎碎的摩擦声响起，一只勉强呈现人形，浑身裹满老树皮，身高近三米的树精，从一棵大树后绕了出来。',\n",
       " '\\u3000\\u3000雾原秋完全屏住了呼吸，尽力蜷缩着身体，希望这只树精只是路过，但天不遂人愿，树精走到了他躲藏的附近，似有所觉，慢慢低下了头。',\n",
       " '\\u3000\\u3000接着，它毫不犹豫举起了两条由藤蔓扭曲而成的手臂，向着树根阴影处猛然抽去。',\n",
       " '\\u3000\\u3000“法克！”',\n",
       " '\\u3000\\u3000雾原秋藏不住了，骂着就是一个懒驴打滚，极速躲过了这猛烈一击，接着举起手中的长柄伐木斧，冲着树精腰部就是狠狠一斧，砍得碎木乱飞，汁液横溅。',\n",
       " '\\u3000\\u3000树精被激怒了，身上的枝叶乱颤，扭身再次挥舞手臂向他迅猛横扫，但依旧被他闪身躲过，只将地上厚厚的腐叶抽了个满天飞舞。',\n",
       " '\\u3000\\u3000随后，雾原秋立还颜色，再次劈了它一斧。',\n",
       " '\\u3000\\u3000瞬息之间，一人一树毫无交流就展开了厮杀，舍生忘我，树精对斧头不躲不避，只用两条手臂拼命乱抽，恨不能直接将入侵者抽成满天碎肉。雾原秋则身形灵活，围着树精团团打转，拼了命的砍它的腰身。',\n",
       " '\\u3000\\u3000树精身形呆笨缓慢，雾原秋手持利斧又熟知它的习性，很快就占到了上风，但他还没来得高兴，猛然间又是两条藤蔓手臂抽击而来，风声尖锐刺耳，有新的树精加入了战场。',\n",
       " '\\u3000\\u3000雾原秋以一敌二，压力瞬间大增，能够辗转腾挪的范围迅速缩小，而林间树木晃动不止，昏暗的角落里一片沙沙声，也不知有多少树精正快速赶来要S~M他。',\n",
       " '\\u3000\\u3000他不敢再打下去了，潜行已经失败，再不逃等树精完成了合围，他十有八九要被当场捣成肉泥。',\n",
       " '\\u3000\\u3000他奋力劈了几斧，给破坏他计划的树精又留下了几道斧痕，然后就掉头往森林外逃去，而对于这个入侵者，树精也没打算放过他，哪怕速度没他快也依旧追在他身后，时不时还有树精挡住他的去路阻击一二。',\n",
       " '\\u3000\\u3000最后，他斧子都丢掉了，这才连滚带爬逃出了森林，重见了天日。',\n",
       " '\\u3000\\u3000他也不敢留在森林附近，继续狂奔，等穿过了一片碎石地，到了一座石山的山谷口才敢停下。树精没离开森林太远，就站在森林边缘“目送”他，无数藤蔓手臂漫天挥舞，密密麻麻一大片，很像某种不可名状的怪物，看一眼就足够普通人做噩梦三天。',\n",
       " '\\u3000\\u3000“这帮狗日的……”',\n",
       " '\\u3000\\u3000雾原秋揉着左臂被擦伤的地方，看着这帮树精在那里发泄“愤怒”，脸色十分难看。',\n",
       " '\\u3000\\u3000他拿这群树精毫无办法，单说一只，那不足为惧，他现在已经能打得过了，磨也能磨死它，但这群树精不讲武德，根本不和你单挑，每次都是全家老小一起上，无数藤蔓乱抽，如同天罗地网，人类根本无法抵挡，甚至躲都没法躲，除了抱头鼠窜没有第二个选择。',\n",
       " '\\u3000\\u3000为了对付这群树精，他也试过别的办法，打了足足两年交道了。',\n",
       " '\\u3000\\u3000最初他想行贿，带着天然素人肥料（自己拉的）、购买的花卉培育有机肥、工业合成肥去表达过善意，希望这帮树精能“吃”得满意，让开道路，让他安安稳稳通过这片森林，但这帮树精不会说话，也没有和他交流的意思，见了他就打，差点把天然素人肥料糊在他脸上。',\n",
       " '\\u3000\\u3000当时他就怒了，觉得这帮树精给脸不要脸，带了汽油去想一把火烧了这片森林，而且也确实把森林点着了，只是树精数量太多，前仆后继卷了泥土前来灭火，拼了命地扑打，最后战果并没有想象中那么大——树种古怪，不易燃烧，泼洒的几桶汽油就是个引火的苗子，转眼就烧没了，只是单纯的山火，树精们应对起来很有经验。',\n",
       " '\\u3000\\u3000它们甚至懂得清理出隔离带以防火势蔓延。',\n",
       " '\\u3000\\u3000他转而又想以打促和，放火前先喊话，表示只要同意他通过森林就不再骚扰它们，坚持了很长时间，想让树精们屈服，可惜依旧没鸟用，他去烧，树精就来迎击，完全不怕麻烦。',\n",
       " '\\u3000\\u3000最后，他实在没招了，就开始了艰苦锻炼，想以凡人之躯强行对抗超凡生物，潜行或硬闯通过森林，但结果也不太美妙，森林里树精实在太多了，根本没有空子可钻，每次都像刚才一样，只要略微深入森林就一定会被发现，而且要不是跑得够快，一定会被打死在里面。',\n",
       " '\\u3000\\u3000总之，他想了千方百计，尝试了无数次，还是卡在这里两年了，根本无法通过这片诡异的森林，被迫困在了这座石山之中——死气沉沉的森林完全包围着这座山，各方向他都试过了，全都是该死的树精。',\n",
       " '\\u3000\\u3000他真的真的非常非常想离开这里，去看看森林外面有什么，去尝试着寻仙访道。',\n",
       " '\\u3000\\u3000可惜不行，出不去。',\n",
       " '\\u3000\\u3000………',\n",
       " '\\u3000\\u3000树精们缓缓退入了森林，消失在了树木后面，慢慢不见了踪影，森林也恢复成了死气沉沉的模样，弥散着淡淡的灰雾湿气，就如同一只沉默的巨兽，静静卧在那里，形成了一道不可越过的天堑。',\n",
       " '\\u3000\\u3000雾原秋静静望着这片森林，脸色慢慢由难看变成了沮丧。',\n",
       " '\\u3000\\u3000接着，他周围光线扭曲，景色变换，凭空就出现在了一间四五坪大小的单人公寓内——墙纸斑驳，榻榻米多处损破，正中有张小方桌，此外还有一套老旧的书桌椅，别的没了，简陋的要命。',\n",
       " '\\u3000\\u3000这里就是他现在住的地方，位于曰本北海道札幌市下北区的一幢廉价公寓楼内，阴暗潮湿，冬凉夏暖，房租每月3万円整，水电费自付，无物业费，无管理员，带一个转身都困难的小洗手间，无厨房无浴室，洗澡请去街头的大澡堂。',\n",
       " '\\u3000\\u3000只有手头特别紧张的人才会选择住在这里，也就比网吧、胶囊旅馆强一点点，环境实在称不上一个好字，但雾原秋不在意，与不能修仙，不能获取超凡力量相比，生活条件较差根本不值一提。',\n",
       " '\\u3000\\u3000他按了按胸口，快速呼吸了几次，缓解了一下空间变换带来的身体不适，然后就直接盘腿坐倒在了榻榻米上。',\n",
       " '\\u3000\\u3000两年了，花了大量时间，浪费了大量精力，拼死拼活锻炼身体，已经到了某种极限，结果还是死活离不开那座山，投入毫无价值，那是不是该放弃了？',\n",
       " '\\u3000\\u3000总不能将一生都消耗在这件事上吧？',\n",
       " '\\u3000\\u3000但……',\n",
       " '\\u3000\\u3000放弃掉自己穿越唯一的金手指吗？\\n            ']"
      ]
     },
     "execution_count": 125,
     "metadata": {},
     "output_type": "execute_result"
    }
   ],
   "source": [
    "#chapter_contents = selector.xpath('//*[@class=\"read-content j_readContent\"]/p/span[0]/@class')\n",
    "chapter_contents = selector_chapter.xpath('//*[@class=\"read-content j_readContent\"]/p/text()')\n",
    "chapter_contents"
   ]
  },
  {
   "cell_type": "code",
   "execution_count": 91,
   "metadata": {},
   "outputs": [],
   "source": [
    "dirs_save = './爬取的文件/'\n",
    "file_name = f'{dirs_save}《{book_names[0]}》_{author_names[0]}/'   #dirs_save +'《'+ book_names[0]+'》_'+author_names[0]\n",
    "# 创建以书名命名的文件夹\n",
    "if not os.path.exists(file_name):\n",
    "    os.makedirs(file_name)"
   ]
  },
  {
   "cell_type": "code",
   "execution_count": 92,
   "metadata": {},
   "outputs": [
    {
     "data": {
      "text/plain": [
       "'./爬取的文件/《在下壶中仙》_海底漫步者//第一章 放弃掉自己穿越唯一的金手指吗？.txt'"
      ]
     },
     "execution_count": 92,
     "metadata": {},
     "output_type": "execute_result"
    }
   ],
   "source": [
    "chapter_save = file_name + f'{chapter_names[0]}.txt'\n",
    "chapter_save"
   ]
  },
  {
   "cell_type": "code",
   "execution_count": null,
   "metadata": {},
   "outputs": [],
   "source": []
  },
  {
   "cell_type": "code",
   "execution_count": 93,
   "metadata": {},
   "outputs": [
    {
     "name": "stdout",
     "output_type": "stream",
     "text": [
      "已保存第一章 放弃掉自己穿越唯一的金手指吗？\n",
      "已保存第二章 该踏踏实实过日子才对\n",
      "已保存第三章 管闲事\n",
      "已保存第四章 晨练\n",
      "已保存第五章 青鬼姬大人\n",
      "已保存第六章 画风变的这么快吗？\n",
      "已保存第七章 怪物\n",
      "已保存第八章 可惜了，是个勇敢的家伙\n",
      "已保存第九章 狠心LV99\n",
      "已保存第十章石烤地瓜\n",
      "已保存第十一章 又成了伦理问题了？\n",
      "已保存第十二章 警力吃紧\n",
      "已保存第十三章 前川美咲\n",
      "已保存第十四章 不可小觑啊！\n",
      "已保存第十五章 可爱风的猫眼JK\n",
      "已保存第十六章你在开玩笑？\n",
      "已保存第十七章输了比赛我们就跑\n",
      "已保存第十八章 到此为止了\n",
      "已保存第十九章 合作愉快\n",
      "已保存第二十章 大杂烩流派\n",
      "已保存第二十一章 也许该去买只羊\n",
      "已保存第二十二章 大哥哥，晚安\n",
      "已保存第二十三章 你小子不老实\n",
      "已保存第二十四章 别这么爱骂人就好了\n",
      "已保存第二十五章 阿齁\n",
      "已保存第二十六章 狗醒了\n",
      "已保存第二十七章 忠犬\n",
      "已保存第二十八章 当舔狗是没有好下场的\n",
      "已保存第二十九章 还敢染黄毛？\n",
      "已保存第三十章 服药\n",
      "已保存第三十一章 蜕变\n",
      "已保存第三十二章 资质提升\n",
      "已保存第三十三章 妖刀弥月\n",
      "已保存第三十四章 骑着自行车去打怪\n",
      "已保存第三十五章 你是不是怕狗啊？\n",
      "已保存第三十六章 终于等到怪了\n",
      "已保存第三十七章就是这里，药丸在里面！\n",
      "已保存第三十八章不怕没柴刀\n",
      "已保存第三十九章 体舍流剑士\n",
      "已保存第四十章前有爹，后有妈，两头夹击\n",
      "已保存第四十一章 哥哥是个败类\n",
      "已保存第四十二章阿齁就是阿齁\n",
      "已保存第四十三章 终于开始受欢迎了？\n",
      "已保存第四十四章 爱心便当\n",
      "已保存第四十五章 未来堪忧\n",
      "已保存第四十六章 阿鹤，你长大了\n",
      "已保存第四十七章 她急了\n",
      "已保存第四十八章 大巡游\n"
     ]
    }
   ],
   "source": [
    "for chapter,url in zip(chapter_names,chapter_urls):\n",
    "    # 获得章节网址\n",
    "    url = url.replace('//','https://')\n",
    "    # 分析网址内容\n",
    "    webdata = requests.get(url, headers=headers)\n",
    "    selector = etree.HTML(webdata.text)\n",
    "    # 获取章节正文\n",
    "    chapter_contents = selector.xpath('//*[@class=\"read-content j_readContent\"]/p/text()')\n",
    "    # 正文保存至文件\n",
    "    chapter_save = file_name + f'{chapter}.txt'\n",
    "    f = open( chapter_save, 'w', encoding = 'utf-8')\n",
    "    f.write('\\n'.join(chapter_contents))\n",
    "    f.close()\n",
    "    print(f'已保存{chapter}')"
   ]
  },
  {
   "cell_type": "code",
   "execution_count": null,
   "metadata": {},
   "outputs": [],
   "source": []
  }
 ],
 "metadata": {
  "kernelspec": {
   "display_name": "Python 3",
   "language": "python",
   "name": "python3"
  },
  "language_info": {
   "codemirror_mode": {
    "name": "ipython",
    "version": 3
   },
   "file_extension": ".py",
   "mimetype": "text/x-python",
   "name": "python",
   "nbconvert_exporter": "python",
   "pygments_lexer": "ipython3",
   "version": "3.8.5"
  }
 },
 "nbformat": 4,
 "nbformat_minor": 5
}
